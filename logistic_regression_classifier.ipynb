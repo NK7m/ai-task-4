# %% [markdown]
# # Logistic Regression Classifier
# ## AI & ML Internship - Task 4

# %% [markdown]
# ## Import Required Libraries
import pandas as pd
import numpy as np
import matplotlib.pyplot as plt
from sklearn.datasets import load_breast_cancer
from sklearn.model_selection import train_test_split
from sklearn.preprocessing import StandardScaler
from sklearn.linear_model import LogisticRegression
from sklearn.metrics import (confusion_matrix, classification_report, 
                            precision_score, recall_score, roc_auc_score, 
                            roc_curve, precision_recall_curve, auc)

# %% [markdown]
# ## Load and Explore the Dataset
# Using the Breast Cancer Wisconsin Dataset
data = load_breast_cancer()
df = pd.DataFrame(data.data, columns=data.feature_names)
df['target'] = data.target

# Print dataset information
print("Dataset shape:", df.shape)
print("\nTarget distribution:")
print(df['target'].value_counts())
print("\nMalignant (0) vs Benign (1)")

# Show first few rows
df.head()

# %% [markdown]
# ## Data Preprocessing
# Split into features and target
X = df.drop('target', axis=1)
y = df['target']

# Split into train and test sets
X_train, X_test, y_train, y_test = train_test_split(X, y, test_size=0.3, random_state=42)

# Standardize features
scaler = StandardScaler()
X_train_scaled = scaler.fit_transform(X_train)
X_test_scaled = scaler.transform(X_test)

# %% [markdown]
# ## Train Logistic Regression Model
# Create and train the model
model = LogisticRegression(random_state=42, max_iter=1000)
model.fit(X_train_scaled, y_train)

# Make predictions
y_pred = model.predict(X_test_scaled)
y_pred_proba = model.predict_proba(X_test_scaled)[:, 1]  # probabilities for class 1

# %% [markdown]
# ## Model Evaluation
# Confusion Matrix
cm = confusion_matrix(y_test, y_pred)
print("Confusion Matrix:")
print(cm)

# Classification Report
print("\nClassification Report:")
print(classification_report(y_test, y_pred))

# Key Metrics
precision = precision_score(y_test, y_pred)
recall = recall_score(y_test, y_pred)
roc_auc = roc_auc_score(y_test, y_pred_proba)

print(f"\nPrecision: {precision:.3f}")
print(f"Recall: {recall:.3f}")
print(f"ROC-AUC: {roc_auc:.3f}")

# %% [markdown]
# ## Visualization: ROC Curve
# Calculate ROC curve
fpr, tpr, thresholds = roc_curve(y_test, y_pred_proba)

# Plot ROC curve
plt.figure(figsize=(8, 6))
plt.plot(fpr, tpr, label=f'Logistic Regression (AUC = {roc_auc:.2f})')
plt.plot([0, 1], [0, 1], 'k--')
plt.xlabel('False Positive Rate')
plt.ylabel('True Positive Rate')
plt.title('ROC Curve')
plt.legend()
plt.show()

# %% [markdown]
# ## Visualization: Precision-Recall Curve
precision_curve, recall_curve, pr_thresholds = precision_recall_curve(y_test, y_pred_proba)
pr_auc = auc(recall_curve, precision_curve)

plt.figure(figsize=(8, 6))
plt.plot(recall_curve, precision_curve, label=f'Logistic Regression (AUC = {pr_auc:.2f})')
plt.xlabel('Recall')
plt.ylabel('Precision')
plt.title('Precision-Recall Curve')
plt.legend()
plt.show()

# %% [markdown]
# ## Threshold Tuning
# Default threshold is 0.5 - let's explore different thresholds
thresholds = np.arange(0.1, 1.0, 0.1)
results = []

for thresh in thresholds:
    y_pred_thresh = (y_pred_proba >= thresh).astype(int)
    precision = precision_score(y_test, y_pred_thresh)
    recall = recall_score(y_test, y_pred_thresh)
    results.append({'threshold': thresh, 'precision': precision, 'recall': recall})

results_df = pd.DataFrame(results)
print("\nPerformance at Different Thresholds:")
print(results_df)

# Plot threshold vs metrics
plt.figure(figsize=(8, 6))
plt.plot(results_df['threshold'], results_df['precision'], label='Precision')
plt.plot(results_df['threshold'], results_df['recall'], label='Recall')
plt.xlabel('Threshold')
plt.ylabel('Score')
plt.title('Precision and Recall at Different Thresholds')
plt.legend()
plt.show()

# %% [markdown]
# ## Sigmoid Function Explanation
# Visualize the sigmoid function
def sigmoid(x):
    return 1 / (1 + np.exp(-x))

x_values = np.linspace(-10, 10, 100)
y_values = sigmoid(x_values)

plt.figure(figsize=(8, 6))
plt.plot(x_values, y_values)
plt.axhline(y=0.5, color='r', linestyle='--', label='Default Threshold (0.5)')
plt.xlabel('Input (z)')
plt.ylabel('Sigmoid Output (Probability)')
plt.title('Sigmoid Function')
plt.legend()
plt.show()
